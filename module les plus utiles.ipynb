{
 "cells": [
  {
   "cell_type": "code",
   "execution_count": 1,
   "metadata": {},
   "outputs": [
    {
     "name": "stdout",
     "output_type": "stream",
     "text": [
      "3.141592653589793\n",
      "1.0\n",
      "2.2\n",
      "3.7\n",
      "1.9235384061671346\n"
     ]
    }
   ],
   "source": [
    "import math\n",
    "import statistics\n",
    " \n",
    "print(math.pi) # nombre pi\n",
    "print(math.cos(2*math.pi)) #cos(2*pi)\n",
    " \n",
    "# Création d'une liste\n",
    "nombres = [3, 5, 1, 0, 2]\n",
    " \n",
    "print(statistics.mean(nombres)) # moyenne\n",
    "print(statistics.variance(nombres)) # variance\n",
    "print(statistics.stdev(nombres)) # écart type"
   ]
  },
  {
   "cell_type": "code",
   "execution_count": 2,
   "metadata": {},
   "outputs": [
    {
     "name": "stdout",
     "output_type": "stream",
     "text": [
      "0.8444218515250481\n",
      "6\n",
      "[5, 33, 65, 62, 51]\n",
      "65\n",
      "[33, 5, 51, 65, 62]\n"
     ]
    }
   ],
   "source": [
    "import random\n",
    " \n",
    "random.seed(0) # fixe la RNG au reglage 0\n",
    " \n",
    "print(random.random()) # Crée un nombre float\n",
    "print(random.randint(0, 10)) # Crée un nombre entier (entre 0 et 10)\n",
    " \n",
    " \n",
    "# Génére une liste aléatoire de longueur 5\n",
    "liste_aleatoire = random.sample(range(100), 5)\n",
    "print(liste_aleatoire) #affiche la liste\n",
    " \n",
    " \n",
    "# Choisit un élément aléatoire de la liste\n",
    "print(random.choice(liste_aleatoire)) \n",
    " \n",
    "# Mélange la liste au hasard \n",
    "random.shuffle(liste_aleatoire)\n",
    "print(liste_aleatoire)"
   ]
  },
  {
   "cell_type": "code",
   "execution_count": 8,
   "metadata": {},
   "outputs": [
    {
     "name": "stdout",
     "output_type": "stream",
     "text": [
      "juste un test de bon fonctionnement\n",
      "darix 15\n"
     ]
    }
   ],
   "source": [
    "import glob\n",
    " \n",
    "filenames = glob.glob(\"*.txt\") # liste tous les fichiers avec l'extension .txt\n",
    " \n",
    "for file in filenames: # selectionne l'un apres l'autres les fichiers dans filenames\n",
    "    with open(file, 'r') as f: # ouvre le fichier\n",
    "        print(f.read()) # affiche a l'écran le contenu du fichier"
   ]
  }
 ],
 "metadata": {
  "kernelspec": {
   "display_name": "Python 3",
   "language": "python",
   "name": "python3"
  },
  "language_info": {
   "codemirror_mode": {
    "name": "ipython",
    "version": 3
   },
   "file_extension": ".py",
   "mimetype": "text/x-python",
   "name": "python",
   "nbconvert_exporter": "python",
   "pygments_lexer": "ipython3",
   "version": "3.7.4"
  }
 },
 "nbformat": 4,
 "nbformat_minor": 2
}
