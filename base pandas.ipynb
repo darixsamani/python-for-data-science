{
 "cells": [
  {
   "cell_type": "code",
   "execution_count": 1,
   "metadata": {},
   "outputs": [
    {
     "name": "stdout",
     "output_type": "stream",
     "text": [
      "Series([], dtype: float64)\n"
     ]
    }
   ],
   "source": [
    "# -*- coding: utf-8 -*-\n",
    "# importation de pandas en tant que pan\n",
    "import pandas as pan\n",
    "# Création de séries vides\n",
    "ser = pan.Series()\n",
    "print(ser)"
   ]
  },
  {
   "cell_type": "code",
   "execution_count": 2,
   "metadata": {},
   "outputs": [
    {
     "name": "stdout",
     "output_type": "stream",
     "text": [
      "0    P\n",
      "1    y\n",
      "2    t\n",
      "3    h\n",
      "4    o\n",
      "5    n\n",
      "dtype: object\n"
     ]
    }
   ],
   "source": [
    "# importation de pandas as pan\n",
    "import pandas as pan\n",
    "\n",
    "# importation de  numpy as np\n",
    "import numpy as np\n",
    "\n",
    "# tableau simple\n",
    "data = np.array (['P', 'y', 't', 'h', 'o' , 'n'])\n",
    "\n",
    "s = pan.Series(data)\n",
    "print(s)"
   ]
  },
  {
   "cell_type": "code",
   "execution_count": 3,
   "metadata": {},
   "outputs": [
    {
     "name": "stdout",
     "output_type": "stream",
     "text": [
      "4     p\n",
      "7     y\n",
      "8     t\n",
      "9     h\n",
      "13    o\n",
      "17    n\n",
      "dtype: object\n"
     ]
    }
   ],
   "source": [
    "# importation de pandas as pan\n",
    "import pandas as pan\n",
    "\n",
    "# importation de  numpy as np\n",
    "import numpy as np\n",
    "\n",
    "# tableau simple\n",
    "data = np.array (['p', 'y', 't', 'h', 'o' , 'n'])\n",
    "\n",
    "# fournir un index\n",
    "s = pan.Series (data, index = [4, 7, 8, 9, 13 , 17])\n",
    "print(s)"
   ]
  },
  {
   "cell_type": "code",
   "execution_count": 4,
   "metadata": {},
   "outputs": [
    {
     "name": "stdout",
     "output_type": "stream",
     "text": [
      "1    7\n",
      "2    7\n",
      "3    7\n",
      "4    7\n",
      "5    7\n",
      "dtype: int64\n"
     ]
    }
   ],
   "source": [
    "#import the pandas library as pan\n",
    "import pandas as pan\n",
    "import numpy as np\n",
    "s = pan.Series(7, index=[1, 2, 3, 4, 5])\n",
    "print(s)"
   ]
  },
  {
   "cell_type": "code",
   "execution_count": 5,
   "metadata": {},
   "outputs": [
    {
     "name": "stdout",
     "output_type": "stream",
     "text": [
      "Laptop      17\n",
      "Ipad        15\n",
      "Tablette    25\n",
      "dtype: int64\n"
     ]
    }
   ],
   "source": [
    "# coding: utf-8\n",
    "import pandas as pan\n",
    "# exemple de dictionnaire \n",
    "dict = {'Laptop' : 17, \n",
    "        'Ipad' : 15, \n",
    "        'Tablette' : 25} \n",
    "   \n",
    "# Créer une série à partir du dictionnaire\n",
    "s = pan.Series(dict)  \n",
    "print(s) "
   ]
  },
  {
   "cell_type": "code",
   "execution_count": 6,
   "metadata": {},
   "outputs": [
    {
     "name": "stdout",
     "output_type": "stream",
     "text": [
      "1\n"
     ]
    }
   ],
   "source": [
    "# coding: utf-8\n",
    "import pandas as pan\n",
    "s = pan.Series([0, 1, 2, 3],index = ['a','b','c','d'])\n",
    "\n",
    "#extraire le deuxième élément\n",
    "print(s[1])\n",
    "# Affiche  1"
   ]
  },
  {
   "cell_type": "code",
   "execution_count": 7,
   "metadata": {},
   "outputs": [
    {
     "name": "stdout",
     "output_type": "stream",
     "text": [
      "b    1\n",
      "dtype: int64\n"
     ]
    }
   ],
   "source": [
    "# coding: utf-8\n",
    "import pandas as pan\n",
    "s = pan.Series([0, 1, 2, 3],index = ['a','b','c','d'])\n",
    "\n",
    "#extraire le deuxième élément\n",
    "print(s[[1]])"
   ]
  },
  {
   "cell_type": "code",
   "execution_count": 8,
   "metadata": {},
   "outputs": [
    {
     "name": "stdout",
     "output_type": "stream",
     "text": [
      "c    2\n",
      "d    3\n",
      "dtype: int64\n"
     ]
    }
   ],
   "source": [
    "# coding: utf-8\n",
    "import pandas as pan\n",
    "s = pan.Series([0, 1, 2, 3, 4, 5],index = ['a','b','c','d','e','f'])\n",
    "\n",
    "#extraire depuis l'index 2 jusqu'à l'index 4\n",
    "print(s[2:4])"
   ]
  },
  {
   "cell_type": "code",
   "execution_count": 9,
   "metadata": {},
   "outputs": [
    {
     "name": "stdout",
     "output_type": "stream",
     "text": [
      "3\n",
      "d    3\n",
      "dtype: int64\n"
     ]
    }
   ],
   "source": [
    "# coding: utf-8\n",
    "import pandas as pan\n",
    "s = pan.Series([0, 1, 2, 3, 4, 5],index = ['a','b','c','d','e','f'])\n",
    "\n",
    "#extraire le deuxième élément\n",
    "print(s['d'])\n",
    "print(s[['d']])"
   ]
  },
  {
   "cell_type": "code",
   "execution_count": 10,
   "metadata": {},
   "outputs": [
    {
     "name": "stdout",
     "output_type": "stream",
     "text": [
      "a    0\n",
      "e    4\n",
      "d    3\n",
      "dtype: int64\n"
     ]
    }
   ],
   "source": [
    "# coding: utf-8\n",
    "import pandas as pan\n",
    "s = pan.Series([0, 1, 2, 3, 4, 5],index = ['a','b','c','d','e','f'])\n",
    "\n",
    "#extraire le deuxième élément\n",
    "print(s[['a' , 'e' , 'd']])"
   ]
  },
  {
   "cell_type": "code",
   "execution_count": 15,
   "metadata": {},
   "outputs": [
    {
     "name": "stdout",
     "output_type": "stream",
     "text": [
      "   ID      Nom  Age  Taille\n",
      "0   1  Natalie   22     170\n",
      "1   2   Robert   37     190\n",
      "2   3  Bernard   29     181\n"
     ]
    }
   ],
   "source": [
    "import pandas\n",
    "dictData = {'ID' : [1, 2, 3] , \n",
    "        'Nom': ['Natalie', 'Robert', 'Bernard'],  \n",
    "        'Age': [22, 37, 29], \n",
    "        'Taille': [170, 190, 181]}\n",
    "\n",
    "df = pandas.DataFrame(dictData)\n",
    "print(df)"
   ]
  },
  {
   "cell_type": "code",
   "execution_count": 19,
   "metadata": {},
   "outputs": [
    {
     "name": "stdout",
     "output_type": "stream",
     "text": [
      "  ID      Nom Age Taille\n",
      "0  1  Natalie  22    170\n",
      "1  2   Robert  37    190\n",
      "2  3  Bernard  29    181\n"
     ]
    }
   ],
   "source": [
    "import numpy\n",
    "import pandas as pan\n",
    "ar = numpy.array([[1, 'Natalie', 22, 170], [2, 'Robert', 37, 190], [3, 'Bernard' , 29 , 181]])\n",
    "df = pan.DataFrame(ar,  columns = ['ID', 'Nom', 'Age', 'Taille'])\n",
    "print(df)\n",
    "\n"
   ]
  },
  {
   "cell_type": "code",
   "execution_count": 20,
   "metadata": {},
   "outputs": [
    {
     "name": "stdout",
     "output_type": "stream",
     "text": [
      "       Nom Age\n",
      "0  Natalie  22\n",
      "1   Robert  37\n",
      "2  Bernard  29\n"
     ]
    }
   ],
   "source": [
    "import pandas as pan\n",
    "import numpy as np\n",
    "ar = np.array([[1, 'Natalie', 22, 170], [2, 'Robert', 37, 190], [3, 'Bernard' , 29 , 181]])\n",
    "df = pan.DataFrame(ar,  columns = ['ID', 'Nom', 'Age', 'Taille'])\n",
    "print(df[['Nom', 'Age']])"
   ]
  }
 ],
 "metadata": {
  "kernelspec": {
   "display_name": "Python 3",
   "language": "python",
   "name": "python3"
  },
  "language_info": {
   "codemirror_mode": {
    "name": "ipython",
    "version": 3
   },
   "file_extension": ".py",
   "mimetype": "text/x-python",
   "name": "python",
   "nbconvert_exporter": "python",
   "pygments_lexer": "ipython3",
   "version": "3.7.4"
  }
 },
 "nbformat": 4,
 "nbformat_minor": 2
}
