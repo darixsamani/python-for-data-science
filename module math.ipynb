{
 "cells": [
  {
   "cell_type": "code",
   "execution_count": 1,
   "metadata": {
    "scrolled": false
   },
   "outputs": [
    {
     "name": "stdout",
     "output_type": "stream",
     "text": [
      "5.0\n",
      "3\n",
      "4\n",
      "-1.0\n",
      "2.0\n",
      "24\n"
     ]
    }
   ],
   "source": [
    "import math\n",
    "print(math.fabs(-5)) # affiche 5.0\n",
    "print(math.floor(3.7)) # affiche 3\n",
    "print(math.gcd(8,12)) # affiche 4\n",
    "print(math.remainder(17,6)) # affiche -1.0 # donne le reste après avoir divisé x par y.\n",
    "print(math.remainder(17,5)) # affiche 2.0\n",
    "print(math.factorial(4)) # affiche 24"
   ]
  },
  {
   "cell_type": "code",
   "execution_count": 2,
   "metadata": {},
   "outputs": [
    {
     "name": "stdout",
     "output_type": "stream",
     "text": [
      "0.8660254037844386\n",
      "0.9999999999999999\n",
      "90.0\n"
     ]
    }
   ],
   "source": [
    " import math\n",
    "print(math.sin(math.pi/3)) # affiche 0.8660254037844386\n",
    "print(math.tan(math.pi/4)) # affiche 0.9999999999999999\n",
    "print(math.degrees(math.pi/2)) # affiche 90.0"
   ]
  },
  {
   "cell_type": "code",
   "execution_count": 3,
   "metadata": {},
   "outputs": [
    {
     "name": "stdout",
     "output_type": "stream",
     "text": [
      "8.0\n",
      "2.718281828459045\n",
      "0.6931471805599453\n"
     ]
    }
   ],
   "source": [
    "import math\n",
    "print(math.pow(2,3)) # affiche 8.0\n",
    "print(math.exp(1)) # affiche 2.718281828459045\n",
    "print(math.log(2)) # affiche 0.6931471805599453"
   ]
  },
  {
   "cell_type": "code",
   "execution_count": null,
   "metadata": {},
   "outputs": [],
   "source": []
  }
 ],
 "metadata": {
  "kernelspec": {
   "display_name": "Python 3",
   "language": "python",
   "name": "python3"
  },
  "language_info": {
   "codemirror_mode": {
    "name": "ipython",
    "version": 3
   },
   "file_extension": ".py",
   "mimetype": "text/x-python",
   "name": "python",
   "nbconvert_exporter": "python",
   "pygments_lexer": "ipython3",
   "version": "3.7.4"
  }
 },
 "nbformat": 4,
 "nbformat_minor": 2
}
