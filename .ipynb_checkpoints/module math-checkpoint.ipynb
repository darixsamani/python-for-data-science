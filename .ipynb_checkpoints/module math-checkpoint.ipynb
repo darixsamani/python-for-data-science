{
 "cells": [
  {
   "cell_type": "code",
   "execution_count": 1,
   "metadata": {
    "scrolled": false
   },
   "outputs": [
    {
     "name": "stdout",
     "output_type": "stream",
     "text": [
      "5.0\n",
      "3\n",
      "4\n",
      "-1.0\n",
      "2.0\n",
      "24\n"
     ]
    }
   ],
   "source": [
    "import math\n",
    "print(math.fabs(-5)) # affiche 5.0\n",
    "print(math.floor(3.7)) # affiche 3\n",
    "print(math.gcd(8,12)) # affiche 4\n",
    "print(math.remainder(17,6)) # affiche -1.0 # donne le reste après avoir divisé x par y.\n",
    "print(math.remainder(17,5)) # affiche 2.0\n",
    "print(math.factorial(4)) # affiche 24"
   ]
  },
  {
   "cell_type": "code",
   "execution_count": null,
   "metadata": {},
   "outputs": [],
   "source": [
    " "
   ]
  },
  {
   "cell_type": "code",
   "execution_count": null,
   "metadata": {},
   "outputs": [],
   "source": []
  },
  {
   "cell_type": "code",
   "execution_count": null,
   "metadata": {},
   "outputs": [],
   "source": []
  }
 ],
 "metadata": {
  "kernelspec": {
   "display_name": "Python 3",
   "language": "python",
   "name": "python3"
  },
  "language_info": {
   "codemirror_mode": {
    "name": "ipython",
    "version": 3
   },
   "file_extension": ".py",
   "mimetype": "text/x-python",
   "name": "python",
   "nbconvert_exporter": "python",
   "pygments_lexer": "ipython3",
   "version": "3.7.4"
  }
 },
 "nbformat": 4,
 "nbformat_minor": 2
}
