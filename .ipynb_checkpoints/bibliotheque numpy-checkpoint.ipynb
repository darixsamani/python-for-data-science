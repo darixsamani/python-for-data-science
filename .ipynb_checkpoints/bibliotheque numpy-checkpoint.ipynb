{
 "cells": [
  {
   "cell_type": "code",
   "execution_count": 23,
   "metadata": {},
   "outputs": [
    {
     "name": "stdout",
     "output_type": "stream",
     "text": [
      "True\n",
      "False\n",
      "[1, 2, 3, 1, 2, 3]\n",
      "2\n",
      "{1, 2, 3, 4, 5}\n"
     ]
    },
    {
     "data": {
      "text/plain": [
       "0"
      ]
     },
     "execution_count": 23,
     "metadata": {},
     "output_type": "execute_result"
    }
   ],
   "source": [
    "word1='Apple'\n",
    "word2='Apple'\n",
    "list1=[1,2,3]\n",
    "list2=[1,2,3]\n",
    "print(word1 is word2)\n",
    "print(list1 is list2)\n",
    "print(list1*2)\n",
    "print('helo'.find('lo'))\n",
    "a={3,4,5}\n",
    "a.update([1,2,3])\n",
    "print(a)\n",
    "all([1,4,0,6])\n",
    "round(0.5)"
   ]
  },
  {
   "cell_type": "code",
   "execution_count": 26,
   "metadata": {},
   "outputs": [
    {
     "name": "stdout",
     "output_type": "stream",
     "text": [
      "(2, 3)\n",
      "{'a', 'n', 'c', 's', 'b'}\n"
     ]
    }
   ],
   "source": [
    "t=(1,2,3,4)\n",
    "print(t[1:3])\n",
    "z=set('abc')\n",
    "z.update('san')\n",
    "print(z)"
   ]
  },
  {
   "cell_type": "code",
   "execution_count": 29,
   "metadata": {},
   "outputs": [
    {
     "ename": "SyntaxError",
     "evalue": "invalid syntax (<ipython-input-29-54c6c1989247>, line 4)",
     "output_type": "error",
     "traceback": [
      "\u001b[1;36m  File \u001b[1;32m\"<ipython-input-29-54c6c1989247>\"\u001b[1;36m, line \u001b[1;32m4\u001b[0m\n\u001b[1;33m    1strinf=1\u001b[0m\n\u001b[1;37m          ^\u001b[0m\n\u001b[1;31mSyntaxError\u001b[0m\u001b[1;31m:\u001b[0m invalid syntax\n"
     ]
    }
   ],
   "source": []
  },
  {
   "cell_type": "code",
   "execution_count": 32,
   "metadata": {},
   "outputs": [
    {
     "name": "stdout",
     "output_type": "stream",
     "text": [
      "0\n",
      "-2\n",
      "1abcdfe\n"
     ]
    }
   ],
   "source": []
  }
 ],
 "metadata": {
  "kernelspec": {
   "display_name": "Python 3",
   "language": "python",
   "name": "python3"
  },
  "language_info": {
   "codemirror_mode": {
    "name": "ipython",
    "version": 3
   },
   "file_extension": ".py",
   "mimetype": "text/x-python",
   "name": "python",
   "nbconvert_exporter": "python",
   "pygments_lexer": "ipython3",
   "version": "3.7.4"
  }
 },
 "nbformat": 4,
 "nbformat_minor": 2
}
