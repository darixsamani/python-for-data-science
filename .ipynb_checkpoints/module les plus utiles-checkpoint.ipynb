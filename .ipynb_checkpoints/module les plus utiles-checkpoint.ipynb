{
 "cells": [
  {
   "cell_type": "code",
   "execution_count": 1,
   "metadata": {},
   "outputs": [
    {
     "name": "stdout",
     "output_type": "stream",
     "text": [
      "3.141592653589793\n",
      "1.0\n",
      "2.2\n",
      "3.7\n",
      "1.9235384061671346\n"
     ]
    }
   ],
   "source": [
    "import math\n",
    "import statistics\n",
    " \n",
    "print(math.pi) # nombre pi\n",
    "print(math.cos(2*math.pi)) #cos(2*pi)\n",
    " \n",
    "# Création d'une liste\n",
    "nombres = [3, 5, 1, 0, 2]\n",
    " \n",
    "print(statistics.mean(nombres)) # moyenne\n",
    "print(statistics.variance(nombres)) # variance\n",
    "print(statistics.stdev(nombres)) # écart type"
   ]
  },
  {
   "cell_type": "code",
   "execution_count": 2,
   "metadata": {},
   "outputs": [
    {
     "name": "stdout",
     "output_type": "stream",
     "text": [
      "0.8444218515250481\n",
      "6\n",
      "[5, 33, 65, 62, 51]\n",
      "65\n",
      "[33, 5, 51, 65, 62]\n"
     ]
    }
   ],
   "source": [
    "import random\n",
    " \n",
    "random.seed(0) # fixe la RNG au reglage 0\n",
    " \n",
    "print(random.random()) # Crée un nombre float\n",
    "print(random.randint(0, 10)) # Crée un nombre entier (entre 0 et 10)\n",
    " \n",
    " \n",
    "# Génére une liste aléatoire de longueur 5\n",
    "liste_aleatoire = random.sample(range(100), 5)\n",
    "print(liste_aleatoire) #affiche la liste\n",
    " \n",
    " \n",
    "# Choisit un élément aléatoire de la liste\n",
    "print(random.choice(liste_aleatoire)) \n",
    " \n",
    "# Mélange la liste au hasard \n",
    "random.shuffle(liste_aleatoire)\n",
    "print(liste_aleatoire)"
   ]
  },
  {
   "cell_type": "code",
   "execution_count": 6,
   "metadata": {},
   "outputs": [
    {
     "ename": "TypeError",
     "evalue": "'list' object is not callable",
     "output_type": "error",
     "traceback": [
      "\u001b[1;31m---------------------------------------------------------------------------\u001b[0m",
      "\u001b[1;31mTypeError\u001b[0m                                 Traceback (most recent call last)",
      "\u001b[1;32m<ipython-input-6-87194daa8a19>\u001b[0m in \u001b[0;36m<module>\u001b[1;34m\u001b[0m\n\u001b[0;32m      3\u001b[0m \u001b[0mfilenames\u001b[0m \u001b[1;33m=\u001b[0m \u001b[0mglob\u001b[0m\u001b[1;33m.\u001b[0m\u001b[0mglob\u001b[0m\u001b[1;33m(\u001b[0m\u001b[1;34m\"*.txt\"\u001b[0m\u001b[1;33m)\u001b[0m \u001b[1;31m# liste tous les fichiers avec l'extension .txt\u001b[0m\u001b[1;33m\u001b[0m\u001b[1;33m\u001b[0m\u001b[0m\n\u001b[0;32m      4\u001b[0m \u001b[1;33m\u001b[0m\u001b[0m\n\u001b[1;32m----> 5\u001b[1;33m \u001b[1;32mfor\u001b[0m \u001b[0mfile\u001b[0m \u001b[1;32min\u001b[0m \u001b[0mfilenames\u001b[0m\u001b[1;33m(\u001b[0m\u001b[1;33m)\u001b[0m\u001b[1;33m:\u001b[0m \u001b[1;31m# selectionne l'un apres l'autres les fichiers dans filenames\u001b[0m\u001b[1;33m\u001b[0m\u001b[1;33m\u001b[0m\u001b[0m\n\u001b[0m\u001b[0;32m      6\u001b[0m     \u001b[1;32mwith\u001b[0m \u001b[0mopen\u001b[0m\u001b[1;33m(\u001b[0m\u001b[0mfile\u001b[0m\u001b[1;33m,\u001b[0m \u001b[1;34m'r'\u001b[0m\u001b[1;33m)\u001b[0m \u001b[1;32mas\u001b[0m \u001b[0mf\u001b[0m\u001b[1;33m:\u001b[0m \u001b[1;31m# ouvre le fichier\u001b[0m\u001b[1;33m\u001b[0m\u001b[1;33m\u001b[0m\u001b[0m\n\u001b[0;32m      7\u001b[0m         \u001b[0mprint\u001b[0m\u001b[1;33m(\u001b[0m\u001b[0mf\u001b[0m\u001b[1;33m.\u001b[0m\u001b[0mread\u001b[0m\u001b[1;33m(\u001b[0m\u001b[1;33m)\u001b[0m\u001b[1;33m)\u001b[0m \u001b[1;31m# affiche a l'écran le contenu du fichier\u001b[0m\u001b[1;33m\u001b[0m\u001b[1;33m\u001b[0m\u001b[0m\n",
      "\u001b[1;31mTypeError\u001b[0m: 'list' object is not callable"
     ]
    }
   ],
   "source": [
    "import glob\n",
    " \n",
    "filenames = glob.glob(\"*.txt\") # liste tous les fichiers avec l'extension .txt\n",
    " \n",
    "for file in filenames: # selectionne l'un apres l'autres les fichiers dans filenames\n",
    "    with open(file, 'r') as f: # ouvre le fichier\n",
    "        print(f.read()) # affiche a l'écran le contenu du fichier"
   ]
  }
 ],
 "metadata": {
  "kernelspec": {
   "display_name": "Python 3",
   "language": "python",
   "name": "python3"
  },
  "language_info": {
   "codemirror_mode": {
    "name": "ipython",
    "version": 3
   },
   "file_extension": ".py",
   "mimetype": "text/x-python",
   "name": "python",
   "nbconvert_exporter": "python",
   "pygments_lexer": "ipython3",
   "version": "3.7.4"
  }
 },
 "nbformat": 4,
 "nbformat_minor": 2
}
