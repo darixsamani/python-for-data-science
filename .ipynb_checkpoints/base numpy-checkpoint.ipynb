{
 "cells": [
  {
   "cell_type": "code",
   "execution_count": 5,
   "metadata": {},
   "outputs": [
    {
     "name": "stdout",
     "output_type": "stream",
     "text": [
      "[[0. 0. 0.]\n",
      " [0. 0. 0.]] \n",
      " [[1. 1. 1.]\n",
      " [1. 1. 1.]] \n",
      " [[-0.47996777  0.22356006 -0.06574695]\n",
      " [ 0.46707216  0.60053152 -0.31821886]] \n",
      " [[0.59298213 0.60898316 0.62566784]\n",
      " [0.84125842 0.5371999  0.32639563]] \n",
      " [[0 1 4]\n",
      " [4 6 7]]\n"
     ]
    }
   ],
   "source": [
    "import numpy as np\n",
    "A = np.zeros((2, 3)) # tableau de 0 aux dimensions 2x3\n",
    "B = np.ones((2, 3)) # tableau de 1 aux dimensions 2x3\n",
    "C = np.random.randn(2, 3) # tableau aléatoire (distribution normale) aux dimensions 2x3\n",
    "D = np.random.rand(2, 3) # tableau aléatoire (distribution uniforme)\n",
    " \n",
    "E = np.random.randint(0, 10, [2, 3]) # tableau d'entiers aléatoires de 0 a 10 \n",
    "print(A, \"\\n\", B, \"\\n\", C, \"\\n\", D, \"\\n\", E)"
   ]
  },
  {
   "cell_type": "code",
   "execution_count": 6,
   "metadata": {},
   "outputs": [],
   "source": [
    "A = np.ones((2, 3), dtype=np.float16)\n",
    "B = np.eye(4, dtype=np.bool) # créer une matrice identité et convertit les éléments en type bool."
   ]
  },
  {
   "cell_type": "code",
   "execution_count": 7,
   "metadata": {},
   "outputs": [
    {
     "name": "stdout",
     "output_type": "stream",
     "text": [
      "6\n",
      "(2, 3)\n",
      "<class 'tuple'>\n",
      "2\n"
     ]
    }
   ],
   "source": [
    "A = np.zeros((2, 3)) # création d'un tableau de shape (2, 3)\n",
    " \n",
    "print(A.size) # le nombre d'éléments dans le tableau A\n",
    "print(A.shape) # les dimensions du tableau A (sous forme de Tuple)\n",
    " \n",
    "print(type(A.shape)) # voici la preuve que la shape est un tuple\n",
    " \n",
    "print(A.shape[0]) # le nombre d'éléments dans la premiere dimension de A"
   ]
  },
  {
   "cell_type": "code",
   "execution_count": 8,
   "metadata": {},
   "outputs": [
    {
     "data": {
      "text/plain": [
       "array([[0., 0.],\n",
       "       [0., 0.],\n",
       "       [0., 0.]])"
      ]
     },
     "execution_count": 8,
     "metadata": {},
     "output_type": "execute_result"
    }
   ],
   "source": [
    "A = np.zeros((2, 3)) # création d'un tableau de shape (2, 3)\n",
    " \n",
    "A = A.reshape((3, 2)) # redimensionne le tableau A (3 lignes, 2 colonnes)\n",
    "A.ravel() # Aplatit le tableau A (une seule dimension)\n",
    "A.squeeze() # élimine les dimensions \"1\" de A."
   ]
  },
  {
   "cell_type": "code",
   "execution_count": 10,
   "metadata": {},
   "outputs": [
    {
     "name": "stdout",
     "output_type": "stream",
     "text": [
      "[4 5 6]\n"
     ]
    }
   ],
   "source": [
    "A = np.array([[[1, 2, 3], [4, 5, 6]]])\n",
    " \n",
    "print(A[0, 1]) # ligne 0, colonne 1"
   ]
  },
  {
   "cell_type": "code",
   "execution_count": 11,
   "metadata": {},
   "outputs": [
    {
     "name": "stdout",
     "output_type": "stream",
     "text": [
      "[[[1 2 3]\n",
      "  [4 5 6]]]\n"
     ]
    }
   ],
   "source": [
    "A = np.array([[[1, 2, 3], [4, 5, 6]]])\n",
    " \n",
    "print(A[0:2, 0:2]) # ligne 0 et 1, colonne 0 et 1"
   ]
  },
  {
   "cell_type": "code",
   "execution_count": 29,
   "metadata": {},
   "outputs": [
    {
     "ename": "SyntaxError",
     "evalue": "invalid syntax (<ipython-input-29-3ca2e9486833>, line 1)",
     "output_type": "error",
     "traceback": [
      "\u001b[1;36m  File \u001b[1;32m\"<ipython-input-29-3ca2e9486833>\"\u001b[1;36m, line \u001b[1;32m1\u001b[0m\n\u001b[1;33m    A = np.array([[[1, 2, 3], [4, 5, 6]])\u001b[0m\n\u001b[1;37m                                        ^\u001b[0m\n\u001b[1;31mSyntaxError\u001b[0m\u001b[1;31m:\u001b[0m invalid syntax\n"
     ]
    }
   ],
   "source": [
    "A = np.array([[[1, 2, 3], [4, 5, 6]])\n",
    " \n",
    "print(A[1,:]) # imprime toute la ligne 1, de façon explicite\n",
    " \n",
    "print(A[1]) # imprime toute la ligne 1, mais cette syntax n'est pas idéale"
   ]
  },
  {
   "cell_type": "code",
   "execution_count": 30,
   "metadata": {},
   "outputs": [
    {
     "name": "stdout",
     "output_type": "stream",
     "text": [
      "[[[ True  True  True]\n",
      "  [ True False False]]]\n",
      "[1 2 3 4]\n",
      "[[[4 4 4]\n",
      "  [4 5 6]]]\n"
     ]
    }
   ],
   "source": [
    "A = np.array([[[1, 2, 3], [4, 5, 6]]])\n",
    " \n",
    "print(A<5) # masque booléen\n",
    " \n",
    "print(A[A < 5]) # sous-ensemble filtré par le masque booléen\n",
    " \n",
    "A[A<5] = 4 # convertit les valeurs sélectionnées.\n",
    "print(A)"
   ]
  },
  {
   "cell_type": "code",
   "execution_count": 33,
   "metadata": {},
   "outputs": [
    {
     "name": "stdout",
     "output_type": "stream",
     "text": [
      "21\n",
      "[[1 2 3]\n",
      " [4 5 6]]\n",
      "[[5 7 9]]\n",
      "[[[1 2 3]\n",
      "  [4 5 6]]]\n",
      "720\n",
      "[  1   2   6  24 120 720]\n",
      "1\n",
      "6\n",
      "3.5\n",
      "1.707825127659933\n",
      "2.9166666666666665\n"
     ]
    }
   ],
   "source": [
    "A = np.array([[[1, 2, 3], [4, 5, 6]]])\n",
    " \n",
    "print(A.sum()) # effectue la somme de tous les éléments du tableau\n",
    "print(A.sum(axis=0)) # effectue la somme des colonnes (somme sur éléments des les lignes)\n",
    "print(A.sum(axis=1)) # effectue la somme des lignes (somme sur les éléments des colonnes)\n",
    "print(A.cumsum(axis=0)) # effectue la somme cumulée\n",
    " \n",
    "print(A.prod()) # effectue le produit\n",
    "print(A.cumprod()) # effectue le produit cumulé\n",
    " \n",
    "print(A.min()) # trouve le minimum du tableau\n",
    "print(A.max()) # trouve le maximum du tableau\n",
    " \n",
    "print(A.mean()) # calcul la moyenne\n",
    "print(A.std()) # calcul l'ecart type,\n",
    "print(A.var()) # calcul la variance"
   ]
  },
  {
   "cell_type": "code",
   "execution_count": 34,
   "metadata": {},
   "outputs": [
    {
     "name": "stdout",
     "output_type": "stream",
     "text": [
      "[[7 2 8 0 8]\n",
      " [7 8 2 0 7]\n",
      " [3 8 2 7 9]\n",
      " [6 1 1 2 5]\n",
      " [2 1 9 5 8]]\n",
      "[[3 1 0 2 4]\n",
      " [3 2 0 4 1]\n",
      " [2 0 3 1 4]\n",
      " [1 2 3 4 0]\n",
      " [1 0 3 4 2]]\n",
      "[4 2 3 0 1]\n"
     ]
    }
   ],
   "source": [
    "A = np.random.randint(0, 10, [5, 5]) # tableau aléatoire\n",
    "print(A)\n",
    " \n",
    "print(A.argsort()) # retourne les index pour trier chaque ligne du tableau \n",
    " \n",
    "print(A[:,0].argsort()) # retourne les index pour trier la colonne 0 de A\n",
    " \n",
    "A = A[A[:,0].argsort(), :] # trie les colonnes du tableau selon la colonne 0."
   ]
  },
  {
   "cell_type": "code",
   "execution_count": 35,
   "metadata": {},
   "outputs": [
    {
     "name": "stdout",
     "output_type": "stream",
     "text": [
      "[[1.         0.42403904 0.44094215]\n",
      " [0.42403904 1.         0.99982427]\n",
      " [0.44094215 0.99982427 1.        ]]\n",
      "[[ 1.         -0.40508291]\n",
      " [-0.40508291  1.        ]]\n"
     ]
    },
    {
     "ename": "IndexError",
     "evalue": "too many indices for array",
     "output_type": "error",
     "traceback": [
      "\u001b[1;31m---------------------------------------------------------------------------\u001b[0m",
      "\u001b[1;31mIndexError\u001b[0m                                Traceback (most recent call last)",
      "\u001b[1;32m<ipython-input-35-7a99c00aed24>\u001b[0m in \u001b[0;36m<module>\u001b[1;34m\u001b[0m\n\u001b[0;32m      8\u001b[0m \u001b[1;33m\u001b[0m\u001b[0m\n\u001b[0;32m      9\u001b[0m \u001b[1;31m# sélectionne la corrélation entre ligne 0 et ligne 1\u001b[0m\u001b[1;33m\u001b[0m\u001b[1;33m\u001b[0m\u001b[1;33m\u001b[0m\u001b[0m\n\u001b[1;32m---> 10\u001b[1;33m \u001b[0mprint\u001b[0m\u001b[1;33m(\u001b[0m\u001b[0mnp\u001b[0m\u001b[1;33m.\u001b[0m\u001b[0mcorrcoef\u001b[0m\u001b[1;33m(\u001b[0m\u001b[0mB\u001b[0m\u001b[1;33m[\u001b[0m\u001b[1;33m:\u001b[0m\u001b[1;33m,\u001b[0m\u001b[1;36m0\u001b[0m\u001b[1;33m]\u001b[0m\u001b[1;33m,\u001b[0m \u001b[0mB\u001b[0m\u001b[1;33m[\u001b[0m\u001b[1;33m:\u001b[0m\u001b[1;33m,\u001b[0m \u001b[1;36m1\u001b[0m\u001b[1;33m]\u001b[0m\u001b[1;33m[\u001b[0m\u001b[1;36m0\u001b[0m\u001b[1;33m,\u001b[0m\u001b[1;36m1\u001b[0m\u001b[1;33m]\u001b[0m\u001b[1;33m)\u001b[0m\u001b[1;33m)\u001b[0m\u001b[1;33m\u001b[0m\u001b[1;33m\u001b[0m\u001b[0m\n\u001b[0m",
      "\u001b[1;31mIndexError\u001b[0m: too many indices for array"
     ]
    }
   ],
   "source": [
    "B = np.random.randn(3, 3) # nombres aléatoires 3x3\n",
    " \n",
    "# retourne la matrice de corrélation de B\n",
    "print(np.corrcoef(B))\n",
    " \n",
    "# retourne la matrice de corrélation entre les lignes 0 et 1 de B\n",
    "print(np.corrcoef(B[:,0], B[:, 1]))\n",
    " \n",
    "# sélectionne la corrélation entre ligne 0 et ligne 1\n",
    "print(np.corrcoef(B[:,0], B[:, 1][0,1]))"
   ]
  }
 ],
 "metadata": {
  "kernelspec": {
   "display_name": "Python 3",
   "language": "python",
   "name": "python3"
  },
  "language_info": {
   "codemirror_mode": {
    "name": "ipython",
    "version": 3
   },
   "file_extension": ".py",
   "mimetype": "text/x-python",
   "name": "python",
   "nbconvert_exporter": "python",
   "pygments_lexer": "ipython3",
   "version": "3.7.4"
  }
 },
 "nbformat": 4,
 "nbformat_minor": 2
}
