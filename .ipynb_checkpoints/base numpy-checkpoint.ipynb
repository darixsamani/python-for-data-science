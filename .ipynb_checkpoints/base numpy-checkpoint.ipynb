{
 "cells": [
  {
   "cell_type": "code",
   "execution_count": 5,
   "metadata": {},
   "outputs": [
    {
     "name": "stdout",
     "output_type": "stream",
     "text": [
      "[[0. 0. 0.]\n",
      " [0. 0. 0.]] \n",
      " [[1. 1. 1.]\n",
      " [1. 1. 1.]] \n",
      " [[-0.47996777  0.22356006 -0.06574695]\n",
      " [ 0.46707216  0.60053152 -0.31821886]] \n",
      " [[0.59298213 0.60898316 0.62566784]\n",
      " [0.84125842 0.5371999  0.32639563]] \n",
      " [[0 1 4]\n",
      " [4 6 7]]\n"
     ]
    }
   ],
   "source": [
    "import numpy as np\n",
    "A = np.zeros((2, 3)) # tableau de 0 aux dimensions 2x3\n",
    "B = np.ones((2, 3)) # tableau de 1 aux dimensions 2x3\n",
    "C = np.random.randn(2, 3) # tableau aléatoire (distribution normale) aux dimensions 2x3\n",
    "D = np.random.rand(2, 3) # tableau aléatoire (distribution uniforme)\n",
    " \n",
    "E = np.random.randint(0, 10, [2, 3]) # tableau d'entiers aléatoires de 0 a 10 \n",
    "print(A, \"\\n\", B, \"\\n\", C, \"\\n\", D, \"\\n\", E)"
   ]
  },
  {
   "cell_type": "code",
   "execution_count": 6,
   "metadata": {},
   "outputs": [],
   "source": [
    "A = np.ones((2, 3), dtype=np.float16)\n",
    "B = np.eye(4, dtype=np.bool) # créer une matrice identité et convertit les éléments en type bool."
   ]
  },
  {
   "cell_type": "code",
   "execution_count": 7,
   "metadata": {},
   "outputs": [
    {
     "name": "stdout",
     "output_type": "stream",
     "text": [
      "6\n",
      "(2, 3)\n",
      "<class 'tuple'>\n",
      "2\n"
     ]
    }
   ],
   "source": [
    "A = np.zeros((2, 3)) # création d'un tableau de shape (2, 3)\n",
    " \n",
    "print(A.size) # le nombre d'éléments dans le tableau A\n",
    "print(A.shape) # les dimensions du tableau A (sous forme de Tuple)\n",
    " \n",
    "print(type(A.shape)) # voici la preuve que la shape est un tuple\n",
    " \n",
    "print(A.shape[0]) # le nombre d'éléments dans la premiere dimension de A"
   ]
  },
  {
   "cell_type": "code",
   "execution_count": 8,
   "metadata": {},
   "outputs": [
    {
     "data": {
      "text/plain": [
       "array([[0., 0.],\n",
       "       [0., 0.],\n",
       "       [0., 0.]])"
      ]
     },
     "execution_count": 8,
     "metadata": {},
     "output_type": "execute_result"
    }
   ],
   "source": [
    "A = np.zeros((2, 3)) # création d'un tableau de shape (2, 3)\n",
    " \n",
    "A = A.reshape((3, 2)) # redimensionne le tableau A (3 lignes, 2 colonnes)\n",
    "A.ravel() # Aplatit le tableau A (une seule dimension)\n",
    "A.squeeze() # élimine les dimensions \"1\" de A."
   ]
  },
  {
   "cell_type": "code",
   "execution_count": 10,
   "metadata": {},
   "outputs": [
    {
     "name": "stdout",
     "output_type": "stream",
     "text": [
      "[4 5 6]\n"
     ]
    }
   ],
   "source": [
    "A = np.array([[[1, 2, 3], [4, 5, 6]]])\n",
    " \n",
    "print(A[0, 1]) # ligne 0, colonne 1"
   ]
  },
  {
   "cell_type": "code",
   "execution_count": 11,
   "metadata": {},
   "outputs": [
    {
     "name": "stdout",
     "output_type": "stream",
     "text": [
      "[[[1 2 3]\n",
      "  [4 5 6]]]\n"
     ]
    }
   ],
   "source": [
    "A = np.array([[[1, 2, 3], [4, 5, 6]]])\n",
    " \n",
    "print(A[0:2, 0:2]) # ligne 0 et 1, colonne 0 et 1"
   ]
  },
  {
   "cell_type": "code",
   "execution_count": 26,
   "metadata": {},
   "outputs": [
    {
     "ename": "SyntaxError",
     "evalue": "unexpected EOF while parsing (<ipython-input-26-fcc97f53970d>, line 4)",
     "output_type": "error",
     "traceback": [
      "\u001b[1;36m  File \u001b[1;32m\"<ipython-input-26-fcc97f53970d>\"\u001b[1;36m, line \u001b[1;32m4\u001b[0m\n\u001b[1;33m    # print(A[1]) imprime toute la ligne 1, mais cette syntax n'est pas idéale\u001b[0m\n\u001b[1;37m                                                                              ^\u001b[0m\n\u001b[1;31mSyntaxError\u001b[0m\u001b[1;31m:\u001b[0m unexpected EOF while parsing\n"
     ]
    }
   ],
   "source": [
    "A = np.array([[[1, 2, 3], [4, 5, 6]])\n",
    " \n",
    "print(A[1,:] # imprime toute la ligne 1, de façon explicite\n",
    " \n",
    "print(A[1]) # imprime toute la ligne 1, mais cette syntax n'est pas idéale"
   ]
  }
 ],
 "metadata": {
  "kernelspec": {
   "display_name": "Python 3",
   "language": "python",
   "name": "python3"
  },
  "language_info": {
   "codemirror_mode": {
    "name": "ipython",
    "version": 3
   },
   "file_extension": ".py",
   "mimetype": "text/x-python",
   "name": "python",
   "nbconvert_exporter": "python",
   "pygments_lexer": "ipython3",
   "version": "3.7.4"
  }
 },
 "nbformat": 4,
 "nbformat_minor": 2
}
