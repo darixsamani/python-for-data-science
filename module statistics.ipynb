{
 "cells": [
  {
   "cell_type": "code",
   "execution_count": 1,
   "metadata": {},
   "outputs": [
    {
     "name": "stdout",
     "output_type": "stream",
     "text": [
      "La moyenne des valeurs est:  19.285714285714285\n"
     ]
    }
   ],
   "source": [
    "import statistics as st\n",
    "valeurs =[17,21,22,18,19,17,21]\n",
    "print(\"La moyenne des valeurs est: \" , st.mean(valeurs))"
   ]
  },
  {
   "cell_type": "code",
   "execution_count": 2,
   "metadata": {},
   "outputs": [
    {
     "name": "stdout",
     "output_type": "stream",
     "text": [
      "La mediane des valeurs est:  19\n"
     ]
    }
   ],
   "source": [
    "valeurs =[17,21,22,18,19,17,21]\n",
    "print(\"La mediane des valeurs est: \" , st.median(valeurs))"
   ]
  },
  {
   "cell_type": "code",
   "execution_count": 3,
   "metadata": {},
   "outputs": [
    {
     "name": "stdout",
     "output_type": "stream",
     "text": [
      "La variance est:  4.238095238095238\n"
     ]
    }
   ],
   "source": [
    "valeurs =[17,21,22,18,19,17,21]\n",
    "print(\"La variance est: \" , st.variance(valeurs))"
   ]
  },
  {
   "cell_type": "code",
   "execution_count": 4,
   "metadata": {},
   "outputs": [
    {
     "name": "stdout",
     "output_type": "stream",
     "text": [
      "Le mode des valeurs est :  7\n"
     ]
    }
   ],
   "source": [
    "from statistics import mode\n",
    "valeurs =[21 , 7 , 2 , 7 , 3 , 7 , 5]\n",
    "print(\"Le mode des valeurs est : \" , mode(valeurs))"
   ]
  }
 ],
 "metadata": {
  "kernelspec": {
   "display_name": "Python 3",
   "language": "python",
   "name": "python3"
  },
  "language_info": {
   "codemirror_mode": {
    "name": "ipython",
    "version": 3
   },
   "file_extension": ".py",
   "mimetype": "text/x-python",
   "name": "python",
   "nbconvert_exporter": "python",
   "pygments_lexer": "ipython3",
   "version": "3.7.4"
  }
 },
 "nbformat": 4,
 "nbformat_minor": 2
}
