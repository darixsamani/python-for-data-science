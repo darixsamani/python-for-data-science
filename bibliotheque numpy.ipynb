{
 "cells": [
  {
   "cell_type": "code",
   "execution_count": 42,
   "metadata": {},
   "outputs": [
    {
     "name": "stdout",
     "output_type": "stream",
     "text": [
      "[[2 7 3]\n",
      " [8 5 4]]\n"
     ]
    }
   ],
   "source": [
    "import numpy as np\n",
    "a = np.array ([[2,7,3], [8,5,4]])\n",
    "print(a)"
   ]
  },
  {
   "cell_type": "code",
   "execution_count": 43,
   "metadata": {},
   "outputs": [
    {
     "name": "stdout",
     "output_type": "stream",
     "text": [
      "[[ 5  9]\n",
      " [14  9]]\n"
     ]
    }
   ],
   "source": [
    "import numpy as np\n",
    "a = np.array ([[5, 3], [2, 3]])\n",
    "b = np.array ([[1, 3], [7, 3]])\n",
    "print(a * b)"
   ]
  },
  {
   "cell_type": "code",
   "execution_count": 44,
   "metadata": {},
   "outputs": [
    {
     "name": "stdout",
     "output_type": "stream",
     "text": [
      "[[ 8 24]\n",
      " [ 5 15]]\n"
     ]
    }
   ],
   "source": [
    "import numpy as np\n",
    "a = np.array ([[5, 3],\n",
    "              [2, 3]])\n",
    "b = np.array ([[1, 3],\n",
    "              [1, 3]])\n",
    "produit = np.dot (a, b)\n",
    "print(produit)"
   ]
  },
  {
   "cell_type": "code",
   "execution_count": 45,
   "metadata": {},
   "outputs": [
    {
     "name": "stdout",
     "output_type": "stream",
     "text": [
      "[[5 2]\n",
      " [3 3]]\n"
     ]
    }
   ],
   "source": [
    "import numpy as np\n",
    "a = np.array ([[5, 3], [2, 3]])\n",
    "print(a.T)"
   ]
  },
  {
   "cell_type": "code",
   "execution_count": 46,
   "metadata": {},
   "outputs": [
    {
     "name": "stdout",
     "output_type": "stream",
     "text": [
      "[[1. 0. 0.]\n",
      " [0. 1. 0.]\n",
      " [0. 0. 1.]]\n"
     ]
    }
   ],
   "source": [
    "import numpy as np\n",
    "a = np.eye (3)\n",
    "print(a)"
   ]
  },
  {
   "cell_type": "code",
   "execution_count": 47,
   "metadata": {},
   "outputs": [
    {
     "name": "stdout",
     "output_type": "stream",
     "text": [
      "La matrice obtenue à partir de l'intervalle [0 , 20]  est: [ 0.  5. 10. 15. 20.]\n"
     ]
    }
   ],
   "source": [
    "import numpy as np\n",
    "m = np.linspace (0, 20, 5)\n",
    "print(\"La matrice obtenue à partir de l'intervalle [0 , 20]  est:\", m)\n",
    "# La sortie est:\n",
    "# La matrice obtenue à l'étape 5 est: [0. 5. 10. 15. 15. 20.]"
   ]
  },
  {
   "cell_type": "code",
   "execution_count": 48,
   "metadata": {},
   "outputs": [
    {
     "name": "stdout",
     "output_type": "stream",
     "text": [
      "[ 5  8 11 14 17]\n"
     ]
    }
   ],
   "source": [
    "import numpy as np\n",
    "a = np.arange(5 , 20 , 3 , int)\n",
    "print(a)\n",
    "# renvoie une matrice d'entiers : [ 5  8 11 14 17]"
   ]
  },
  {
   "cell_type": "code",
   "execution_count": 49,
   "metadata": {},
   "outputs": [
    {
     "name": "stdout",
     "output_type": "stream",
     "text": [
      "[0.  0.1 0.2 0.3 0.4 0.5 0.6 0.7 0.8 0.9]\n"
     ]
    }
   ],
   "source": [
    "import numpy as np\n",
    "a = np.arange(0 , 1 , 0.1 , float)\n",
    "print(a)\n",
    "# renvoie la matrice formée de nombres  réels : [0.   0.1  0.2  0.3  0.4  0.5  0.6  0.7  0.8  0.9]"
   ]
  },
  {
   "cell_type": "code",
   "execution_count": 50,
   "metadata": {},
   "outputs": [
    {
     "name": "stdout",
     "output_type": "stream",
     "text": [
      "[[ 0  2  4]\n",
      " [ 6  8 10]]\n",
      "[[ 0  2]\n",
      " [ 4  6]\n",
      " [ 8 10]]\n"
     ]
    }
   ],
   "source": [
    "# coding: utf-8\n",
    "import numpy as np\n",
    "a = np.arange(0 , 11, 2 , int).reshape(2 , 3)\n",
    "b = a.reshape(3 , 2)\n",
    "print(a)\n",
    "print(b)\n",
    "# print(a) renvoie la matrice formée de nombres  entiers : [[ 0  2  4]  [ 6  8 10]]\n",
    "# print(b) renvoie la matrice formée de nombres  entiers : [[ 0  2] [ 4  6] [ 8 10]]"
   ]
  },
  {
   "cell_type": "code",
   "execution_count": 51,
   "metadata": {},
   "outputs": [
    {
     "name": "stdout",
     "output_type": "stream",
     "text": [
      "La matrice obtenue en concaténant a et b est : c =  [1 2 3 4 5]\n"
     ]
    }
   ],
   "source": [
    "# coding: utf-8\n",
    "import numpy as np\n",
    "\n",
    "a = np.array([1, 2])\n",
    "b = np.array([3, 4, 5])\n",
    "\n",
    "# concaténation de a et b\n",
    "c = np.concatenate((a, b))\n",
    "print(\"La matrice obtenue en concaténant a et b est : c = \" , c) \n",
    "# La matrice obtenue en concaténant a et b est : c =  [1 2 3 4 5]"
   ]
  },
  {
   "cell_type": "code",
   "execution_count": 52,
   "metadata": {},
   "outputs": [
    {
     "name": "stdout",
     "output_type": "stream",
     "text": [
      "[ 1.          2.71828183  7.3890561  20.08553692]\n"
     ]
    }
   ],
   "source": [
    "import numpy as np\n",
    "x = np.linspace (0, 3,4)\n",
    "y = np.exp (x)\n",
    "print(y)\n",
    "# La sortie est: [1. 2.71828183 7.3890561 20.08553692]"
   ]
  },
  {
   "cell_type": "code",
   "execution_count": 53,
   "metadata": {},
   "outputs": [
    {
     "name": "stdout",
     "output_type": "stream",
     "text": [
      "L'inverse matriciel de a est: [[ 3. -1.]\n",
      " [-5.  2.]]\n"
     ]
    }
   ],
   "source": [
    "import numpy as np\n",
    "a = np.array ([[2, 1],\n",
    "              [5, 3]])\n",
    "b = np.linalg.inv (a)\n",
    "print (\"L'inverse matriciel de a est:\", b)"
   ]
  },
  {
   "cell_type": "code",
   "execution_count": 54,
   "metadata": {},
   "outputs": [
    {
     "name": "stdout",
     "output_type": "stream",
     "text": [
      "Les valeurs propres de la matrice a sont: [-1.  4.]\n"
     ]
    }
   ],
   "source": [
    "import numpy as np\n",
    "a = np.array ([[1, 2],\n",
    "              [3, 2]])\n",
    "valPropres = np.linalg.eigvals (a)\n",
    "print (\"Les valeurs propres de la matrice a sont:\", valPropres)\n",
    "# La sortie est: Les valeurs propres de la matrice a sont: [-1. 4.]"
   ]
  }
 ],
 "metadata": {
  "kernelspec": {
   "display_name": "Python 3",
   "language": "python",
   "name": "python3"
  },
  "language_info": {
   "codemirror_mode": {
    "name": "ipython",
    "version": 3
   },
   "file_extension": ".py",
   "mimetype": "text/x-python",
   "name": "python",
   "nbconvert_exporter": "python",
   "pygments_lexer": "ipython3",
   "version": "3.7.4"
  }
 },
 "nbformat": 4,
 "nbformat_minor": 2
}
